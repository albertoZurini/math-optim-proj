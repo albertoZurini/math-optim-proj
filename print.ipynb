{
 "cells": [
  {
   "cell_type": "code",
   "execution_count": 1,
   "id": "7480e76f",
   "metadata": {},
   "outputs": [],
   "source": [
    "import pickle"
   ]
  },
  {
   "cell_type": "code",
   "execution_count": 2,
   "id": "5c03bda7",
   "metadata": {},
   "outputs": [],
   "source": [
    "with open(\"times.pkl\", \"rb\") as f:\n",
    "    times = pickle.load(f)"
   ]
  },
  {
   "cell_type": "code",
   "execution_count": 4,
   "id": "629abe1e",
   "metadata": {},
   "outputs": [
    {
     "data": {
      "text/plain": [
       "[{'start': 1749054497.578802, 'end': 1749054497.669096, 'optimal': 36},\n",
       " {'o': 0.09029388427734375,\n",
       "  'h': 0.08220577239990234,\n",
       "  'generation': 0.001405954360961914,\n",
       "  'delta': 6.0,\n",
       "  'multiplier': 5,\n",
       "  'optimal_n_max': 15,\n",
       "  'optimal_ls_max': 11},\n",
       " {'start': 1749054497.754428, 'end': 1749054500.0010421, 'optimal': 15},\n",
       " {'o': 2.2466142177581787,\n",
       "  'h': 56.10604906082153,\n",
       "  'generation': 0.0011775493621826172,\n",
       "  'delta': 13.0,\n",
       "  'multiplier': 10,\n",
       "  'optimal_n_max': 0,\n",
       "  'optimal_ls_max': 0},\n",
       " {'start': 1749054556.1090026, 'end': 1749054558.8422747, 'optimal': 10},\n",
       " {'o': 2.733272075653076,\n",
       "  'h': 56.22549843788147,\n",
       "  'generation': 0.0007798671722412109,\n",
       "  'delta': 0.0,\n",
       "  'multiplier': 15,\n",
       "  'optimal_n_max': 0,\n",
       "  'optimal_ls_max': 0},\n",
       " {'start': 1749054615.0692856, 'end': 1749054623.9309237, 'optimal': 10},\n",
       " {'o': 8.861638069152832,\n",
       "  'h': 55.40149807929993,\n",
       "  'generation': 0.0015337467193603516,\n",
       "  'delta': 0.0,\n",
       "  'multiplier': 20,\n",
       "  'optimal_n_max': 0,\n",
       "  'optimal_ls_max': 0},\n",
       " {'start': 1749054679.3346584, 'end': 1749054704.174022, 'optimal': 14},\n",
       " {'o': 24.83936357498169,\n",
       "  'h': 59.609907388687134,\n",
       "  'generation': 0.0014295578002929688,\n",
       "  'delta': 42.0,\n",
       "  'multiplier': 30,\n",
       "  'optimal_n_max': 0,\n",
       "  'optimal_ls_max': 0},\n",
       " {'start': 1749054763.7865179, 'end': 1749058240.9624643, 'optimal': 24},\n",
       " {'o': 3477.1759464740753,\n",
       "  'h': 48.63563275337219,\n",
       "  'generation': 0.0019719600677490234,\n",
       "  'delta': 11.0,\n",
       "  'multiplier': 40,\n",
       "  'optimal_n_max': 0,\n",
       "  'optimal_ls_max': 0},\n",
       " {'start': 1749058289.601189, 'end': 1749058640.248527, 'optimal': 22},\n",
       " {'o': 350.64733815193176,\n",
       "  'h': 53.394431829452515,\n",
       "  'generation': 0.002373218536376953,\n",
       "  'delta': 34.0,\n",
       "  'multiplier': 50,\n",
       "  'optimal_n_max': 0,\n",
       "  'optimal_ls_max': 0}]"
      ]
     },
     "execution_count": 4,
     "metadata": {},
     "output_type": "execute_result"
    }
   ],
   "source": [
    "times"
   ]
  },
  {
   "cell_type": "code",
   "execution_count": null,
   "id": "40f159d3",
   "metadata": {},
   "outputs": [],
   "source": []
  }
 ],
 "metadata": {
  "kernelspec": {
   "display_name": "base",
   "language": "python",
   "name": "python3"
  },
  "language_info": {
   "codemirror_mode": {
    "name": "ipython",
    "version": 3
   },
   "file_extension": ".py",
   "mimetype": "text/x-python",
   "name": "python",
   "nbconvert_exporter": "python",
   "pygments_lexer": "ipython3",
   "version": "3.12.7"
  }
 },
 "nbformat": 4,
 "nbformat_minor": 5
}
