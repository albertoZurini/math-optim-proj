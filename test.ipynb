{
 "cells": [
  {
   "cell_type": "code",
   "execution_count": 1,
   "id": "7de9d6bd",
   "metadata": {},
   "outputs": [],
   "source": [
    "import pickle\n",
    "import matplotlib.pyplot as plt\n",
    "import numpy as np\n",
    "from sklearn.linear_model import LinearRegression\n",
    "from sklearn.preprocessing import PolynomialFeatures\n",
    "from sklearn.metrics import mean_squared_error\n",
    "from scipy.optimize import curve_fit\n",
    "from decimal import Decimal\n",
    "\n",
    "def format_e(n):\n",
    "    a = '%E' % n\n",
    "    return a.split('E')[0].rstrip('0').rstrip('.') + 'E' + a.split('E')[1]"
   ]
  },
  {
   "cell_type": "code",
   "execution_count": 2,
   "id": "3bd62d0d",
   "metadata": {},
   "outputs": [],
   "source": [
    "with open(\"times.pkl\", \"rb\") as f:\n",
    "    times = pickle.load(f)"
   ]
  },
  {
   "cell_type": "code",
   "execution_count": null,
   "id": "395c60d3",
   "metadata": {},
   "outputs": [
    {
     "data": {
      "text/plain": [
       "{'o': 0.14235997200012207,\n",
       " 'h': 0.34718775749206543,\n",
       " 'generation': 0.00054168701171875,\n",
       " 'optimal_solution': 88,\n",
       " 'heuristic_solution': 100.0,\n",
       " 'num_cars': 20,\n",
       " 'num_chargers': 15,\n",
       " 'optimal_n_max': 1,\n",
       " 'optimal_ls_max': 1337,\n",
       " 'instance': ([ChargingDemand(r=0, d=7, e=38),\n",
       "   ChargingDemand(r=0, d=6, e=50),\n",
       "   ChargingDemand(r=1, d=5, e=27),\n",
       "   ChargingDemand(r=1, d=7, e=35),\n",
       "   ChargingDemand(r=1, d=5, e=25),\n",
       "   ChargingDemand(r=2, d=6, e=31),\n",
       "   ChargingDemand(r=2, d=11, e=56),\n",
       "   ChargingDemand(r=2, d=4, e=11),\n",
       "   ChargingDemand(r=1, d=8, e=45),\n",
       "   ChargingDemand(r=0, d=8, e=57),\n",
       "   ChargingDemand(r=2, d=7, e=33),\n",
       "   ChargingDemand(r=0, d=4, e=31),\n",
       "   ChargingDemand(r=0, d=7, e=51),\n",
       "   ChargingDemand(r=1, d=9, e=62),\n",
       "   ChargingDemand(r=2, d=5, e=15),\n",
       "   ChargingDemand(r=1, d=5, e=28),\n",
       "   ChargingDemand(r=2, d=6, e=13),\n",
       "   ChargingDemand(r=0, d=6, e=43),\n",
       "   ChargingDemand(r=0, d=4, e=31),\n",
       "   ChargingDemand(r=0, d=8, e=58)],\n",
       "  0,\n",
       "  [0, 1, 2, 3, 4, 5, 6, 7, 8, 9, 10],\n",
       "  [11.0, 22.0, 43.0])}"
      ]
     },
     "execution_count": 9,
     "metadata": {},
     "output_type": "execute_result"
    }
   ],
   "source": [
    "for i in range(len(times)):\n",
    "    to_add = (times[i][\"num_cars\"], times[i][\"num_vehicles\"])"
   ]
  },
  {
   "cell_type": "code",
   "execution_count": 10,
   "id": "ea49ead1",
   "metadata": {},
   "outputs": [],
   "source": [
    "with open(\"times.pkl\", \"rb\") as f:\n",
    "    times2 = pickle.load(f)"
   ]
  },
  {
   "cell_type": "code",
   "execution_count": 11,
   "id": "5dba1090",
   "metadata": {},
   "outputs": [
    {
     "data": {
      "text/plain": [
       "131"
      ]
     },
     "execution_count": 11,
     "metadata": {},
     "output_type": "execute_result"
    }
   ],
   "source": [
    "len(times2)"
   ]
  }
 ],
 "metadata": {
  "kernelspec": {
   "display_name": "base",
   "language": "python",
   "name": "python3"
  },
  "language_info": {
   "codemirror_mode": {
    "name": "ipython",
    "version": 3
   },
   "file_extension": ".py",
   "mimetype": "text/x-python",
   "name": "python",
   "nbconvert_exporter": "python",
   "pygments_lexer": "ipython3",
   "version": "3.12.7"
  }
 },
 "nbformat": 4,
 "nbformat_minor": 5
}
